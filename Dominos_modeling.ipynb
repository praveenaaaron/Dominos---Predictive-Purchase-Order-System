{
 "cells": [
  {
   "cell_type": "code",
   "execution_count": 1,
   "metadata": {
    "id": "Ogyp8vs92I3u"
   },
   "outputs": [],
   "source": [
    "import pandas as pd\n",
    "import numpy as np\n",
    "from statsmodels.tsa.arima.model import ARIMA\n",
    "from statsmodels.tsa.statespace.sarimax import SARIMAX\n",
    "from sklearn.preprocessing import LabelEncoder"
   ]
  },
  {
   "cell_type": "code",
   "execution_count": 2,
   "metadata": {
    "id": "TG_GKYpFQnfF"
   },
   "outputs": [],
   "source": [
    "# ignore warnings\n",
    "import warnings\n",
    "warnings.filterwarnings('ignore')"
   ]
  },
  {
   "cell_type": "code",
   "execution_count": 3,
   "metadata": {
    "id": "jn8JLQsf3XRj"
   },
   "outputs": [],
   "source": [
    "pizza_df = pd.read_excel('Pizza_Sale.xlsx', engine='openpyxl')\n",
    "ingred_df = pd.read_excel('Pizza_ingredients.xlsx', engine='openpyxl')"
   ]
  },
  {
   "cell_type": "code",
   "execution_count": 4,
   "metadata": {
    "id": "fIxRMuDC3baZ"
   },
   "outputs": [],
   "source": [
    "pizza_df.dropna(inplace=True)"
   ]
  },
  {
   "cell_type": "code",
   "execution_count": 9,
   "metadata": {
    "id": "krTeF4CV3qgA"
   },
   "outputs": [],
   "source": [
    "def parse_dates(date):\n",
    "  for fmt in ('%d-%m-%Y', '%d/%m/%Y'):\n",
    "    try:\n",
    "      return pd.to_datetime(date, format=fmt)\n",
    "    except ValueError:\n",
    "      pass\n",
    "  raise ValueError(f'no valid date format found for {date}')"
   ]
  },
  {
   "cell_type": "code",
   "execution_count": 11,
   "metadata": {
    "id": "ELPqcdyS3xFg"
   },
   "outputs": [],
   "source": [
    "pizza_df['order_date'] = pizza_df['order_date'].apply(parse_dates)"
   ]
  },
  {
   "cell_type": "code",
   "execution_count": 12,
   "metadata": {
    "id": "WXe7TLpr7gk9"
   },
   "outputs": [],
   "source": [
    "pizza_df = pizza_df[['order_date', 'pizza_name', 'quantity']]"
   ]
  },
  {
   "cell_type": "code",
   "execution_count": 13,
   "metadata": {
    "id": "y_D47Mj_18ll"
   },
   "outputs": [],
   "source": [
    "# pizza_df['pizza_name'].unique()"
   ]
  },
  {
   "cell_type": "code",
   "execution_count": 14,
   "metadata": {
    "id": "qEhWcx8A8JkM"
   },
   "outputs": [],
   "source": [
    "sales_summary = pizza_df.groupby(['order_date', 'pizza_name']).sum().reset_index()"
   ]
  },
  {
   "cell_type": "code",
   "execution_count": 15,
   "metadata": {
    "colab": {
     "base_uri": "https://localhost:8080/",
     "height": 206
    },
    "id": "R0hRW0gT9EK0",
    "outputId": "4e5b7342-078f-4988-8fe6-4ea5a548cbae"
   },
   "outputs": [
    {
     "data": {
      "text/html": [
       "<div>\n",
       "<style scoped>\n",
       "    .dataframe tbody tr th:only-of-type {\n",
       "        vertical-align: middle;\n",
       "    }\n",
       "\n",
       "    .dataframe tbody tr th {\n",
       "        vertical-align: top;\n",
       "    }\n",
       "\n",
       "    .dataframe thead th {\n",
       "        text-align: right;\n",
       "    }\n",
       "</style>\n",
       "<table border=\"1\" class=\"dataframe\">\n",
       "  <thead>\n",
       "    <tr style=\"text-align: right;\">\n",
       "      <th></th>\n",
       "      <th>order_date</th>\n",
       "      <th>pizza_name</th>\n",
       "      <th>quantity</th>\n",
       "    </tr>\n",
       "  </thead>\n",
       "  <tbody>\n",
       "    <tr>\n",
       "      <th>0</th>\n",
       "      <td>2015-01-01</td>\n",
       "      <td>The Barbecue Chicken Pizza</td>\n",
       "      <td>11</td>\n",
       "    </tr>\n",
       "    <tr>\n",
       "      <th>1</th>\n",
       "      <td>2015-01-01</td>\n",
       "      <td>The Big Meat Pizza</td>\n",
       "      <td>5</td>\n",
       "    </tr>\n",
       "    <tr>\n",
       "      <th>2</th>\n",
       "      <td>2015-01-01</td>\n",
       "      <td>The Calabrese Pizza</td>\n",
       "      <td>1</td>\n",
       "    </tr>\n",
       "    <tr>\n",
       "      <th>3</th>\n",
       "      <td>2015-01-01</td>\n",
       "      <td>The California Chicken Pizza</td>\n",
       "      <td>4</td>\n",
       "    </tr>\n",
       "    <tr>\n",
       "      <th>4</th>\n",
       "      <td>2015-01-01</td>\n",
       "      <td>The Chicken Alfredo Pizza</td>\n",
       "      <td>2</td>\n",
       "    </tr>\n",
       "  </tbody>\n",
       "</table>\n",
       "</div>"
      ],
      "text/plain": [
       "  order_date                    pizza_name  quantity\n",
       "0 2015-01-01    The Barbecue Chicken Pizza        11\n",
       "1 2015-01-01            The Big Meat Pizza         5\n",
       "2 2015-01-01           The Calabrese Pizza         1\n",
       "3 2015-01-01  The California Chicken Pizza         4\n",
       "4 2015-01-01     The Chicken Alfredo Pizza         2"
      ]
     },
     "execution_count": 15,
     "metadata": {},
     "output_type": "execute_result"
    }
   ],
   "source": [
    "sales_summary.head()"
   ]
  },
  {
   "cell_type": "code",
   "execution_count": 21,
   "metadata": {
    "id": "8tT0gpCoO4Kt"
   },
   "outputs": [],
   "source": [
    "# reshape data for time series modeling\n",
    "sales_pivot = sales_summary.pivot(index='order_date', columns='pizza_name', values='quantity').fillna(0)"
   ]
  },
  {
   "cell_type": "code",
   "execution_count": 23,
   "metadata": {
    "id": "TvMZr67AO4IF"
   },
   "outputs": [],
   "source": [
    "arima_models = {}\n",
    "\n",
    "for pizza_name in sales_pivot.columns:\n",
    "  try:\n",
    "    model = ARIMA(sales_pivot[pizza_name], order=(1, 1, 0))\n",
    "    model_fit = model.fit()\n",
    "    arima_models[pizza_name] = model_fit\n",
    "  except:\n",
    "    print(f'ARIMA model for {pizza_name} failed to fit')"
   ]
  },
  {
   "cell_type": "code",
   "execution_count": 24,
   "metadata": {
    "id": "RDT5I4psQ00j"
   },
   "outputs": [],
   "source": [
    "# Generate predictions for one week\n",
    "prediction_days = 7\n",
    "predictions_arima = {}\n",
    "\n",
    "for pizza_name, model in arima_models.items():\n",
    "  predictions_arima[pizza_name] = model.predict(start=len(sales_pivot), end=len(sales_pivot) + prediction_days - 1)"
   ]
  },
  {
   "cell_type": "code",
   "execution_count": 27,
   "metadata": {
    "id": "__PDrp4gR0O8"
   },
   "outputs": [],
   "source": [
    "predictions_df = pd.DataFrame(predictions_arima)"
   ]
  },
  {
   "cell_type": "code",
   "execution_count": 29,
   "metadata": {
    "id": "9UZ-mTbpTwyH"
   },
   "outputs": [],
   "source": [
    "predictions_df.index = pd.date_range(start=sales_pivot.index[-1], periods=prediction_days, freq='D')"
   ]
  },
  {
   "cell_type": "code",
   "execution_count": 31,
   "metadata": {
    "id": "w54qIepLYG6r"
   },
   "outputs": [],
   "source": [
    "ingredients_df = ingred_df[['pizza_name', 'pizza_ingredients', 'Items_Qty_In_Grams']]"
   ]
  },
  {
   "cell_type": "code",
   "execution_count": 33,
   "metadata": {
    "id": "4zoDMZctZwn0"
   },
   "outputs": [],
   "source": [
    "# change column name to items_qty\n",
    "ingredients_df.rename(columns={'Items_Qty_In_Grams': 'items_qty'}, inplace=True)"
   ]
  },
  {
   "cell_type": "code",
   "execution_count": 35,
   "metadata": {
    "colab": {
     "base_uri": "https://localhost:8080/",
     "height": 509
    },
    "id": "Mbb1LIXNYY40",
    "outputId": "c0033ccd-ae42-40ee-8802-c4c1136e9b2e"
   },
   "outputs": [
    {
     "data": {
      "text/html": [
       "<div>\n",
       "<style scoped>\n",
       "    .dataframe tbody tr th:only-of-type {\n",
       "        vertical-align: middle;\n",
       "    }\n",
       "\n",
       "    .dataframe tbody tr th {\n",
       "        vertical-align: top;\n",
       "    }\n",
       "\n",
       "    .dataframe thead th {\n",
       "        text-align: right;\n",
       "    }\n",
       "</style>\n",
       "<table border=\"1\" class=\"dataframe\">\n",
       "  <thead>\n",
       "    <tr style=\"text-align: right;\">\n",
       "      <th></th>\n",
       "      <th>The Barbecue Chicken Pizza</th>\n",
       "      <th>The Big Meat Pizza</th>\n",
       "      <th>The Brie Carre Pizza</th>\n",
       "      <th>The Calabrese Pizza</th>\n",
       "      <th>The California Chicken Pizza</th>\n",
       "      <th>The Chicken Alfredo Pizza</th>\n",
       "      <th>The Chicken Pesto Pizza</th>\n",
       "      <th>The Classic Deluxe Pizza</th>\n",
       "      <th>The Five Cheese Pizza</th>\n",
       "      <th>The Four Cheese Pizza</th>\n",
       "      <th>...</th>\n",
       "      <th>The Prosciutto and Arugula Pizza</th>\n",
       "      <th>The Sicilian Pizza</th>\n",
       "      <th>The Soppressata Pizza</th>\n",
       "      <th>The Southwest Chicken Pizza</th>\n",
       "      <th>The Spicy Italian Pizza</th>\n",
       "      <th>The Spinach Pesto Pizza</th>\n",
       "      <th>The Spinach Supreme Pizza</th>\n",
       "      <th>The Spinach and Feta Pizza</th>\n",
       "      <th>The Thai Chicken Pizza</th>\n",
       "      <th>The Vegetables + Vegetables Pizza</th>\n",
       "    </tr>\n",
       "  </thead>\n",
       "  <tbody>\n",
       "    <tr>\n",
       "      <th>2015-12-31</th>\n",
       "      <td>8.177936</td>\n",
       "      <td>4.359358</td>\n",
       "      <td>0.888944</td>\n",
       "      <td>1.432509</td>\n",
       "      <td>7.0</td>\n",
       "      <td>2.416310</td>\n",
       "      <td>2.102540</td>\n",
       "      <td>7.119636</td>\n",
       "      <td>2.904758</td>\n",
       "      <td>7.036754</td>\n",
       "      <td>...</td>\n",
       "      <td>3.440253</td>\n",
       "      <td>2.287110</td>\n",
       "      <td>2.033516</td>\n",
       "      <td>5.917653</td>\n",
       "      <td>6.042423</td>\n",
       "      <td>3.472261</td>\n",
       "      <td>2.0</td>\n",
       "      <td>3.171528</td>\n",
       "      <td>3.0</td>\n",
       "      <td>7.835581</td>\n",
       "    </tr>\n",
       "    <tr>\n",
       "      <th>2016-01-01</th>\n",
       "      <td>9.007915</td>\n",
       "      <td>5.256593</td>\n",
       "      <td>1.506167</td>\n",
       "      <td>2.251518</td>\n",
       "      <td>7.0</td>\n",
       "      <td>3.252335</td>\n",
       "      <td>3.002629</td>\n",
       "      <td>8.502385</td>\n",
       "      <td>4.002268</td>\n",
       "      <td>8.000338</td>\n",
       "      <td>...</td>\n",
       "      <td>4.251190</td>\n",
       "      <td>3.759064</td>\n",
       "      <td>2.500562</td>\n",
       "      <td>5.496609</td>\n",
       "      <td>7.292032</td>\n",
       "      <td>4.250256</td>\n",
       "      <td>2.0</td>\n",
       "      <td>4.007356</td>\n",
       "      <td>3.0</td>\n",
       "      <td>8.772523</td>\n",
       "    </tr>\n",
       "    <tr>\n",
       "      <th>2016-01-02</th>\n",
       "      <td>8.629846</td>\n",
       "      <td>4.765913</td>\n",
       "      <td>1.163282</td>\n",
       "      <td>1.823589</td>\n",
       "      <td>7.0</td>\n",
       "      <td>2.811000</td>\n",
       "      <td>2.575658</td>\n",
       "      <td>7.838582</td>\n",
       "      <td>3.427381</td>\n",
       "      <td>7.527399</td>\n",
       "      <td>...</td>\n",
       "      <td>3.829571</td>\n",
       "      <td>2.960415</td>\n",
       "      <td>2.274866</td>\n",
       "      <td>5.689795</td>\n",
       "      <td>6.764059</td>\n",
       "      <td>3.854065</td>\n",
       "      <td>2.0</td>\n",
       "      <td>3.625284</td>\n",
       "      <td>3.0</td>\n",
       "      <td>8.366936</td>\n",
       "    </tr>\n",
       "    <tr>\n",
       "      <th>2016-01-03</th>\n",
       "      <td>8.802063</td>\n",
       "      <td>5.034256</td>\n",
       "      <td>1.353764</td>\n",
       "      <td>2.047181</td>\n",
       "      <td>7.0</td>\n",
       "      <td>3.043979</td>\n",
       "      <td>2.778198</td>\n",
       "      <td>8.157248</td>\n",
       "      <td>3.728513</td>\n",
       "      <td>7.759523</td>\n",
       "      <td>...</td>\n",
       "      <td>4.048777</td>\n",
       "      <td>3.393744</td>\n",
       "      <td>2.383932</td>\n",
       "      <td>5.601157</td>\n",
       "      <td>6.987133</td>\n",
       "      <td>4.055824</td>\n",
       "      <td>2.0</td>\n",
       "      <td>3.799936</td>\n",
       "      <td>3.0</td>\n",
       "      <td>8.542508</td>\n",
       "    </tr>\n",
       "    <tr>\n",
       "      <th>2016-01-04</th>\n",
       "      <td>8.723615</td>\n",
       "      <td>4.887505</td>\n",
       "      <td>1.247946</td>\n",
       "      <td>1.930355</td>\n",
       "      <td>7.0</td>\n",
       "      <td>2.920990</td>\n",
       "      <td>2.682120</td>\n",
       "      <td>8.004269</td>\n",
       "      <td>3.570777</td>\n",
       "      <td>7.645594</td>\n",
       "      <td>...</td>\n",
       "      <td>3.934809</td>\n",
       "      <td>3.158629</td>\n",
       "      <td>2.331226</td>\n",
       "      <td>5.641826</td>\n",
       "      <td>6.892882</td>\n",
       "      <td>3.953079</td>\n",
       "      <td>2.0</td>\n",
       "      <td>3.720099</td>\n",
       "      <td>3.0</td>\n",
       "      <td>8.466505</td>\n",
       "    </tr>\n",
       "    <tr>\n",
       "      <th>2016-01-05</th>\n",
       "      <td>8.759349</td>\n",
       "      <td>4.967760</td>\n",
       "      <td>1.306731</td>\n",
       "      <td>1.991396</td>\n",
       "      <td>7.0</td>\n",
       "      <td>2.985916</td>\n",
       "      <td>2.727696</td>\n",
       "      <td>8.077708</td>\n",
       "      <td>3.653400</td>\n",
       "      <td>7.701512</td>\n",
       "      <td>...</td>\n",
       "      <td>3.994063</td>\n",
       "      <td>3.286197</td>\n",
       "      <td>2.356696</td>\n",
       "      <td>5.623166</td>\n",
       "      <td>6.932704</td>\n",
       "      <td>4.005401</td>\n",
       "      <td>2.0</td>\n",
       "      <td>3.756594</td>\n",
       "      <td>3.0</td>\n",
       "      <td>8.499406</td>\n",
       "    </tr>\n",
       "    <tr>\n",
       "      <th>2016-01-06</th>\n",
       "      <td>8.743072</td>\n",
       "      <td>4.923870</td>\n",
       "      <td>1.274074</td>\n",
       "      <td>1.959502</td>\n",
       "      <td>7.0</td>\n",
       "      <td>2.951642</td>\n",
       "      <td>2.706076</td>\n",
       "      <td>8.042453</td>\n",
       "      <td>3.610121</td>\n",
       "      <td>7.674067</td>\n",
       "      <td>...</td>\n",
       "      <td>3.963256</td>\n",
       "      <td>3.216982</td>\n",
       "      <td>2.344388</td>\n",
       "      <td>5.631728</td>\n",
       "      <td>6.915879</td>\n",
       "      <td>3.978756</td>\n",
       "      <td>2.0</td>\n",
       "      <td>3.739912</td>\n",
       "      <td>3.0</td>\n",
       "      <td>8.485164</td>\n",
       "    </tr>\n",
       "  </tbody>\n",
       "</table>\n",
       "<p>7 rows × 32 columns</p>\n",
       "</div>"
      ],
      "text/plain": [
       "            The Barbecue Chicken Pizza  The Big Meat Pizza  \\\n",
       "2015-12-31                    8.177936            4.359358   \n",
       "2016-01-01                    9.007915            5.256593   \n",
       "2016-01-02                    8.629846            4.765913   \n",
       "2016-01-03                    8.802063            5.034256   \n",
       "2016-01-04                    8.723615            4.887505   \n",
       "2016-01-05                    8.759349            4.967760   \n",
       "2016-01-06                    8.743072            4.923870   \n",
       "\n",
       "            The Brie Carre Pizza  The Calabrese Pizza  \\\n",
       "2015-12-31              0.888944             1.432509   \n",
       "2016-01-01              1.506167             2.251518   \n",
       "2016-01-02              1.163282             1.823589   \n",
       "2016-01-03              1.353764             2.047181   \n",
       "2016-01-04              1.247946             1.930355   \n",
       "2016-01-05              1.306731             1.991396   \n",
       "2016-01-06              1.274074             1.959502   \n",
       "\n",
       "            The California Chicken Pizza  The Chicken Alfredo Pizza  \\\n",
       "2015-12-31                           7.0                   2.416310   \n",
       "2016-01-01                           7.0                   3.252335   \n",
       "2016-01-02                           7.0                   2.811000   \n",
       "2016-01-03                           7.0                   3.043979   \n",
       "2016-01-04                           7.0                   2.920990   \n",
       "2016-01-05                           7.0                   2.985916   \n",
       "2016-01-06                           7.0                   2.951642   \n",
       "\n",
       "            The Chicken Pesto Pizza  The Classic Deluxe Pizza  \\\n",
       "2015-12-31                 2.102540                  7.119636   \n",
       "2016-01-01                 3.002629                  8.502385   \n",
       "2016-01-02                 2.575658                  7.838582   \n",
       "2016-01-03                 2.778198                  8.157248   \n",
       "2016-01-04                 2.682120                  8.004269   \n",
       "2016-01-05                 2.727696                  8.077708   \n",
       "2016-01-06                 2.706076                  8.042453   \n",
       "\n",
       "            The Five Cheese Pizza  The Four Cheese Pizza  ...  \\\n",
       "2015-12-31               2.904758               7.036754  ...   \n",
       "2016-01-01               4.002268               8.000338  ...   \n",
       "2016-01-02               3.427381               7.527399  ...   \n",
       "2016-01-03               3.728513               7.759523  ...   \n",
       "2016-01-04               3.570777               7.645594  ...   \n",
       "2016-01-05               3.653400               7.701512  ...   \n",
       "2016-01-06               3.610121               7.674067  ...   \n",
       "\n",
       "            The Prosciutto and Arugula Pizza  The Sicilian Pizza  \\\n",
       "2015-12-31                          3.440253            2.287110   \n",
       "2016-01-01                          4.251190            3.759064   \n",
       "2016-01-02                          3.829571            2.960415   \n",
       "2016-01-03                          4.048777            3.393744   \n",
       "2016-01-04                          3.934809            3.158629   \n",
       "2016-01-05                          3.994063            3.286197   \n",
       "2016-01-06                          3.963256            3.216982   \n",
       "\n",
       "            The Soppressata Pizza  The Southwest Chicken Pizza  \\\n",
       "2015-12-31               2.033516                     5.917653   \n",
       "2016-01-01               2.500562                     5.496609   \n",
       "2016-01-02               2.274866                     5.689795   \n",
       "2016-01-03               2.383932                     5.601157   \n",
       "2016-01-04               2.331226                     5.641826   \n",
       "2016-01-05               2.356696                     5.623166   \n",
       "2016-01-06               2.344388                     5.631728   \n",
       "\n",
       "            The Spicy Italian Pizza  The Spinach Pesto Pizza  \\\n",
       "2015-12-31                 6.042423                 3.472261   \n",
       "2016-01-01                 7.292032                 4.250256   \n",
       "2016-01-02                 6.764059                 3.854065   \n",
       "2016-01-03                 6.987133                 4.055824   \n",
       "2016-01-04                 6.892882                 3.953079   \n",
       "2016-01-05                 6.932704                 4.005401   \n",
       "2016-01-06                 6.915879                 3.978756   \n",
       "\n",
       "            The Spinach Supreme Pizza  The Spinach and Feta Pizza  \\\n",
       "2015-12-31                        2.0                    3.171528   \n",
       "2016-01-01                        2.0                    4.007356   \n",
       "2016-01-02                        2.0                    3.625284   \n",
       "2016-01-03                        2.0                    3.799936   \n",
       "2016-01-04                        2.0                    3.720099   \n",
       "2016-01-05                        2.0                    3.756594   \n",
       "2016-01-06                        2.0                    3.739912   \n",
       "\n",
       "            The Thai Chicken Pizza  The Vegetables + Vegetables Pizza  \n",
       "2015-12-31                     3.0                           7.835581  \n",
       "2016-01-01                     3.0                           8.772523  \n",
       "2016-01-02                     3.0                           8.366936  \n",
       "2016-01-03                     3.0                           8.542508  \n",
       "2016-01-04                     3.0                           8.466505  \n",
       "2016-01-05                     3.0                           8.499406  \n",
       "2016-01-06                     3.0                           8.485164  \n",
       "\n",
       "[7 rows x 32 columns]"
      ]
     },
     "execution_count": 35,
     "metadata": {},
     "output_type": "execute_result"
    }
   ],
   "source": [
    "predictions_df"
   ]
  },
  {
   "cell_type": "code",
   "execution_count": 37,
   "metadata": {
    "colab": {
     "base_uri": "https://localhost:8080/",
     "height": 206
    },
    "id": "0R1KHokaO4Fe",
    "outputId": "e1a572ce-f4e3-4243-956e-10630396ced4"
   },
   "outputs": [
    {
     "data": {
      "text/html": [
       "<div>\n",
       "<style scoped>\n",
       "    .dataframe tbody tr th:only-of-type {\n",
       "        vertical-align: middle;\n",
       "    }\n",
       "\n",
       "    .dataframe tbody tr th {\n",
       "        vertical-align: top;\n",
       "    }\n",
       "\n",
       "    .dataframe thead th {\n",
       "        text-align: right;\n",
       "    }\n",
       "</style>\n",
       "<table border=\"1\" class=\"dataframe\">\n",
       "  <thead>\n",
       "    <tr style=\"text-align: right;\">\n",
       "      <th></th>\n",
       "      <th>pizza_name</th>\n",
       "      <th>pizza_ingredients</th>\n",
       "      <th>items_qty</th>\n",
       "    </tr>\n",
       "  </thead>\n",
       "  <tbody>\n",
       "    <tr>\n",
       "      <th>0</th>\n",
       "      <td>The Barbecue Chicken Pizza</td>\n",
       "      <td>Barbecued Chicken</td>\n",
       "      <td>40.0</td>\n",
       "    </tr>\n",
       "    <tr>\n",
       "      <th>1</th>\n",
       "      <td>The Barbecue Chicken Pizza</td>\n",
       "      <td>Red Peppers</td>\n",
       "      <td>15.0</td>\n",
       "    </tr>\n",
       "    <tr>\n",
       "      <th>2</th>\n",
       "      <td>The Barbecue Chicken Pizza</td>\n",
       "      <td>Green Peppers</td>\n",
       "      <td>20.0</td>\n",
       "    </tr>\n",
       "    <tr>\n",
       "      <th>3</th>\n",
       "      <td>The Barbecue Chicken Pizza</td>\n",
       "      <td>Tomatoes</td>\n",
       "      <td>30.0</td>\n",
       "    </tr>\n",
       "    <tr>\n",
       "      <th>4</th>\n",
       "      <td>The Barbecue Chicken Pizza</td>\n",
       "      <td>Red Onions</td>\n",
       "      <td>60.0</td>\n",
       "    </tr>\n",
       "  </tbody>\n",
       "</table>\n",
       "</div>"
      ],
      "text/plain": [
       "                   pizza_name  pizza_ingredients  items_qty\n",
       "0  The Barbecue Chicken Pizza  Barbecued Chicken       40.0\n",
       "1  The Barbecue Chicken Pizza        Red Peppers       15.0\n",
       "2  The Barbecue Chicken Pizza      Green Peppers       20.0\n",
       "3  The Barbecue Chicken Pizza           Tomatoes       30.0\n",
       "4  The Barbecue Chicken Pizza         Red Onions       60.0"
      ]
     },
     "execution_count": 37,
     "metadata": {},
     "output_type": "execute_result"
    }
   ],
   "source": [
    "ingredients_df.head()"
   ]
  },
  {
   "cell_type": "code",
   "execution_count": 39,
   "metadata": {
    "id": "NbfOe-Uyh0Ob"
   },
   "outputs": [],
   "source": [
    "\n",
    "# Create a dictionary to store the ingredient quantities\n",
    "ingredient_quantities = {}\n",
    "\n",
    "# Iterate through each pizza in the predictions\n",
    "for pizza_name in predictions_df.columns:\n",
    "  # Get the predicted quantity for the pizza\n",
    "  predicted_quantity = predictions_df[pizza_name].sum()\n",
    "\n",
    "  # Get the ingredients for the pizza\n",
    "  pizza_ingredients = ingredients_df[ingredients_df['pizza_name'] == pizza_name]\n",
    "\n",
    "  # Iterate through each ingredient for the pizza\n",
    "  for index, row in pizza_ingredients.iterrows():\n",
    "    ingredient = row['pizza_ingredients']\n",
    "    ingredient_qty = row['items_qty']\n",
    "\n",
    "    # Calculate the required quantity of the ingredient\n",
    "    required_quantity = predicted_quantity * ingredient_qty\n",
    "\n",
    "    # Add the required quantity to the dictionary\n",
    "    if ingredient not in ingredient_quantities:\n",
    "      ingredient_quantities[ingredient] = 0\n",
    "    ingredient_quantities[ingredient] += required_quantity\n",
    "\n",
    "\n"
   ]
  },
  {
   "cell_type": "code",
   "execution_count": 41,
   "metadata": {
    "colab": {
     "base_uri": "https://localhost:8080/"
    },
    "id": "YPEGTDLDiu_T",
    "outputId": "f31ab99a-4ce2-4c8e-a3bc-fba22e1031a6"
   },
   "outputs": [],
   "source": [
    "# Create a DataFrame from the ingredient quantities\n",
    "ingredient_requirements_df = pd.DataFrame.from_dict(ingredient_quantities, orient='index', columns=['required_quantity'])\n",
    "\n"
   ]
  },
  {
   "cell_type": "code",
   "execution_count": 43,
   "metadata": {
    "colab": {
     "base_uri": "https://localhost:8080/",
     "height": 424
    },
    "id": "rWOj8XeBjEVS",
    "outputId": "cc93257d-09c6-4e89-d1b8-3f1552839c01"
   },
   "outputs": [
    {
     "data": {
      "text/html": [
       "<div>\n",
       "<style scoped>\n",
       "    .dataframe tbody tr th:only-of-type {\n",
       "        vertical-align: middle;\n",
       "    }\n",
       "\n",
       "    .dataframe tbody tr th {\n",
       "        vertical-align: top;\n",
       "    }\n",
       "\n",
       "    .dataframe thead th {\n",
       "        text-align: right;\n",
       "    }\n",
       "</style>\n",
       "<table border=\"1\" class=\"dataframe\">\n",
       "  <thead>\n",
       "    <tr style=\"text-align: right;\">\n",
       "      <th></th>\n",
       "      <th>required_quantity</th>\n",
       "    </tr>\n",
       "  </thead>\n",
       "  <tbody>\n",
       "    <tr>\n",
       "      <th>Barbecued Chicken</th>\n",
       "      <td>5475.941765</td>\n",
       "    </tr>\n",
       "    <tr>\n",
       "      <th>Red Peppers</th>\n",
       "      <td>11352.798786</td>\n",
       "    </tr>\n",
       "    <tr>\n",
       "      <th>Green Peppers</th>\n",
       "      <td>8098.953672</td>\n",
       "    </tr>\n",
       "    <tr>\n",
       "      <th>Tomatoes</th>\n",
       "      <td>34844.716595</td>\n",
       "    </tr>\n",
       "    <tr>\n",
       "      <th>Red Onions</th>\n",
       "      <td>54751.007538</td>\n",
       "    </tr>\n",
       "    <tr>\n",
       "      <th>...</th>\n",
       "      <td>...</td>\n",
       "    </tr>\n",
       "    <tr>\n",
       "      <th>Luganega Sausage</th>\n",
       "      <td>2647.457050</td>\n",
       "    </tr>\n",
       "    <tr>\n",
       "      <th>Onions</th>\n",
       "      <td>1323.728525</td>\n",
       "    </tr>\n",
       "    <tr>\n",
       "      <th>Soppressata Salami</th>\n",
       "      <td>4867.555669</td>\n",
       "    </tr>\n",
       "    <tr>\n",
       "      <th>Peperoncini verdi</th>\n",
       "      <td>1434.813347</td>\n",
       "    </tr>\n",
       "    <tr>\n",
       "      <th>Thai Sweet Chilli Sauce</th>\n",
       "      <td>1260.000000</td>\n",
       "    </tr>\n",
       "  </tbody>\n",
       "</table>\n",
       "<p>64 rows × 1 columns</p>\n",
       "</div>"
      ],
      "text/plain": [
       "                         required_quantity\n",
       "Barbecued Chicken              5475.941765\n",
       "Red Peppers                   11352.798786\n",
       "Green Peppers                  8098.953672\n",
       "Tomatoes                      34844.716595\n",
       "Red Onions                    54751.007538\n",
       "...                                    ...\n",
       "Luganega Sausage               2647.457050\n",
       "Onions                         1323.728525\n",
       "Soppressata Salami             4867.555669\n",
       "Peperoncini verdi              1434.813347\n",
       "Thai Sweet Chilli Sauce        1260.000000\n",
       "\n",
       "[64 rows x 1 columns]"
      ]
     },
     "execution_count": 43,
     "metadata": {},
     "output_type": "execute_result"
    }
   ],
   "source": [
    "# Print the ingredient requirements\n",
    "ingredient_requirements_df"
   ]
  },
  {
   "cell_type": "code",
   "execution_count": 45,
   "metadata": {
    "colab": {
     "base_uri": "https://localhost:8080/"
    },
    "id": "a-R8ZQ0mjd41",
    "outputId": "dbffdffa-24d4-42b0-f0a3-3813b36c82e2"
   },
   "outputs": [
    {
     "name": "stdout",
     "output_type": "stream",
     "text": [
      "Purchase Order:\n",
      "----------------\n",
      "                                quantity   unit\n",
      "Barbecued Chicken            5475.941765  grams\n",
      "Red Peppers                 11352.798786  grams\n",
      "Green Peppers                8098.953672  grams\n",
      "Tomatoes                    34844.716595  grams\n",
      "Red Onions                  54751.007538  grams\n",
      "Barbecue Sauce               1825.313922  grams\n",
      "Bacon                       20179.703943  grams\n",
      "Pepperoni                   23923.636148  grams\n",
      "Italian Sausage               341.952555  grams\n",
      "Chorizo Sausage              1709.762775  grams\n",
      "Brie Carre Cheese             262.227284  grams\n",
      "Prosciutto                    262.227284  grams\n",
      "Caramelized Onions                   NaN  grams\n",
      "Pears                          87.409095  grams\n",
      "Thyme                          43.704547  grams\n",
      "Garlic                      17841.155606  grams\n",
      "?duja Salami                 1612.325925  grams\n",
      "Pancetta                     2418.488887  grams\n",
      "Friggitello Peppers           403.081481  grams\n",
      "Chicken                     44567.706650  grams\n",
      "Artichokes                   8241.127254  grams\n",
      "Spinach                     21057.495799  grams\n",
      "Jalapeno Peppers             3739.224557  grams\n",
      "Fontina Cheese               3913.511134  grams\n",
      "Gouda Cheese                 2940.000000  grams\n",
      "Mushrooms                   26229.630017  grams\n",
      "Asiago Cheese                4112.679666  grams\n",
      "Alfredo Sauce                 917.197657  grams\n",
      "Pesto Sauce                  3890.740843  grams\n",
      "Mozzarella Cheese           10029.740359  grams\n",
      "Provolone Cheese              746.916520  grams\n",
      "Smoked Gouda Cheese           746.916520  grams\n",
      "Romano Cheese                 746.916520  grams\n",
      "Blue Cheese                   746.916520  grams\n",
      "Ricotta Cheese               4000.888958  grams\n",
      "Gorgonzola Piccante Cheese   3200.711166  grams\n",
      "Parmigiano Reggiano Cheese   8001.777916  grams\n",
      "Kalamata Olives              2251.148573  grams\n",
      "Feta Cheese                  7550.129607  grams\n",
      "Beef Chuck Roast             7980.000000  grams\n",
      "Green Olives                 3193.434191  grams\n",
      "Sliced Ham                           NaN  grams\n",
      "Pineapple                    4642.602961  grams\n",
      "Capocollo                   50262.200864  grams\n",
      "Goat Cheese                 11568.001359  grams\n",
      "Oregano                      1457.186993  grams\n",
      "Calabrese Salami            11093.450188  grams\n",
      "Eggplant                     2244.134577  grams\n",
      "Zucchini                     4660.184605  grams\n",
      "Sun-dried Tomatoes           1608.237845  grams\n",
      "Plum Tomatoes                3124.594292  grams\n",
      "Cilantro                     2269.224557  grams\n",
      "Corn                        15128.163713  grams\n",
      "Chipotle Sauce               4538.449114  grams\n",
      "Anchovies                    2839.637243  grams\n",
      "Genoa Salami                 6149.248367  grams\n",
      "Prosciutto di San Daniele    1922.334264  grams\n",
      "Arugula                       823.857542  grams\n",
      "Coarse Sicilian Salami       5294.914099  grams\n",
      "Luganega Sausage             2647.457050  grams\n",
      "Onions                       1323.728525  grams\n",
      "Soppressata Salami           4867.555669  grams\n",
      "Peperoncini verdi            1434.813347  grams\n",
      "Thai Sweet Chilli Sauce      1260.000000  grams\n"
     ]
    }
   ],
   "source": [
    "\n",
    "\n",
    "# Create a purchase order DataFrame\n",
    "purchase_order_df = ingredient_requirements_df.copy()\n",
    "\n",
    "# Add a column for the unit of measure (assuming all ingredients are in grams)\n",
    "purchase_order_df['unit'] = 'grams'\n",
    "\n",
    "# Rename the columns for better readability\n",
    "purchase_order_df = purchase_order_df.rename(columns={'required_quantity': 'quantity'})\n",
    "\n",
    "# Add a header to the purchase order\n",
    "print('Purchase Order:')\n",
    "print('----------------')\n",
    "\n",
    "# Print the purchase order table\n",
    "print(purchase_order_df.to_string())\n"
   ]
  },
  {
   "cell_type": "code",
   "execution_count": null,
   "metadata": {},
   "outputs": [],
   "source": []
  }
 ],
 "metadata": {
  "colab": {
   "provenance": []
  },
  "kernelspec": {
   "display_name": "Python 3 (ipykernel)",
   "language": "python",
   "name": "python3"
  },
  "language_info": {
   "codemirror_mode": {
    "name": "ipython",
    "version": 3
   },
   "file_extension": ".py",
   "mimetype": "text/x-python",
   "name": "python",
   "nbconvert_exporter": "python",
   "pygments_lexer": "ipython3",
   "version": "3.12.7"
  }
 },
 "nbformat": 4,
 "nbformat_minor": 4
}
